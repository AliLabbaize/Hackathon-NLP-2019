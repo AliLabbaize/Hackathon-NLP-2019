{
 "cells": [
  {
   "cell_type": "markdown",
   "metadata": {},
   "source": [
    "<a name=\"top\"></a>\n",
    "<br/>\n",
    "# Script for parsing\n",
    "\n",
    "Topic: Improvement of the performance of NER (named-entity recognition) on [PGxCorpus](https://www.biorxiv.org/content/10.1101/534388v3) with [BioBERT](https://arxiv.org/abs/1901.08746).\n",
    "\n",
    "Authors:\n",
    "- [Sylvain Combettes](https://www.linkedin.com/in/sylvain-combettes/), Ecole des Mines de Nancy\n",
    "- [Mohammed El Yaagoubi](https://www.linkedin.com/in/melyaagoubi/), TELECOM Nancy\n",
    "- [Guillaume Gatti](https://www.linkedin.com/in/guillaume-gatti-b2a482149/), TELECOM Nancy\n",
    "- [Zouhair Janati-Idrissi](https://www.linkedin.com/in/zouhair-janati-idrissi/), TELECOM Nancy\n",
    "- [Ali Labbaize](https://www.linkedin.com/in/alilabbaize/), TELECOM Nancy\n",
    "\n",
    "Supervisors:\n",
    "- [Adrien Coulet](https://members.loria.fr/ACoulet/), Loria\n",
    "- [Joël Legrand](http://joel-legrand.fr/hugo/), Loria\n",
    "\n",
    "---\n",
    "In this notebook, we program a Python script that transforms data from the BRAT format to IOB (inside-outside-beginning) format.\n",
    "\n",
    "---\n",
    "### Imports"
   ]
  },
  {
   "cell_type": "code",
   "execution_count": 1,
   "metadata": {},
   "outputs": [],
   "source": [
    "import os"
   ]
  },
  {
   "cell_type": "markdown",
   "metadata": {},
   "source": [
    "---\n",
    "# Getting the list of the names of the `txt` and `ann` files"
   ]
  },
  {
   "cell_type": "code",
   "execution_count": 2,
   "metadata": {},
   "outputs": [],
   "source": [
    "def list_files(dir):\n",
    "    tab = []\n",
    "    for path, dirs, files in os.walk(dir):\n",
    "        for file in files:\n",
    "            tab.append([file])\n",
    "    return tab"
   ]
  },
  {
   "cell_type": "code",
   "execution_count": 3,
   "metadata": {},
   "outputs": [
    {
     "name": "stdout",
     "output_type": "stream",
     "text": [
      "1892\n"
     ]
    },
    {
     "data": {
      "text/plain": [
       "[['23306941_1.txt'],\n",
       " ['16944116_13.txt'],\n",
       " ['25522765_1.ann'],\n",
       " ['21596890_6.ann'],\n",
       " ['18852012_19.ann']]"
      ]
     },
     "execution_count": 3,
     "metadata": {},
     "output_type": "execute_result"
    }
   ],
   "source": [
    "all_files = list_files(\"PGxCorpus\")\n",
    "print(len(all_files))\n",
    "all_files[:5]"
   ]
  },
  {
   "cell_type": "markdown",
   "metadata": {},
   "source": [
    "We order the names:"
   ]
  },
  {
   "cell_type": "code",
   "execution_count": 4,
   "metadata": {},
   "outputs": [
    {
     "data": {
      "text/plain": [
       "[['10070957_8.ann'],\n",
       " ['10070957_8.txt'],\n",
       " ['10087449_9.ann'],\n",
       " ['10087449_9.txt'],\n",
       " ['10098858_5.ann']]"
      ]
     },
     "execution_count": 4,
     "metadata": {},
     "output_type": "execute_result"
    }
   ],
   "source": [
    "all_files.sort()\n",
    "all_files[0:5]"
   ]
  },
  {
   "cell_type": "markdown",
   "metadata": {},
   "source": [
    "---\n",
    "# Parsing the `txt` files"
   ]
  },
  {
   "cell_type": "code",
   "execution_count": 5,
   "metadata": {},
   "outputs": [],
   "source": [
    "def parse_txt(filename):\n",
    "    path_txt = \"PGxCorpus/\" + str(filename[0])\n",
    "    my_file = open(path_txt, \"r\")\n",
    "    my_file_bis = my_file.read()\n",
    "    my_file.close()\n",
    "    parsed_txt = my_file_bis.split(\" \")\n",
    "    return parsed_txt"
   ]
  },
  {
   "cell_type": "code",
   "execution_count": 6,
   "metadata": {},
   "outputs": [
    {
     "data": {
      "text/plain": [
       "['PACAP',\n",
       " '-induced',\n",
       " 'expression',\n",
       " 'of',\n",
       " 'the',\n",
       " 'c-fos',\n",
       " 'gene',\n",
       " 'was',\n",
       " 'significantly',\n",
       " 'reduced',\n",
       " 'by',\n",
       " 'pretreatment',\n",
       " 'with',\n",
       " 'a',\n",
       " 'PACAP',\n",
       " 'receptor',\n",
       " 'antagonist',\n",
       " ',',\n",
       " 'PACAP',\n",
       " '-',\n",
       " '(',\n",
       " '6-38',\n",
       " ')',\n",
       " '-',\n",
       " 'NH2',\n",
       " '.']"
      ]
     },
     "execution_count": 6,
     "metadata": {},
     "output_type": "execute_result"
    }
   ],
   "source": [
    "phrase = parse_txt(all_files[3]) # make sure that the index corresponds to a txt file\n",
    "phrase"
   ]
  },
  {
   "cell_type": "markdown",
   "metadata": {},
   "source": [
    "---\n",
    "# Parsing the `ann` files"
   ]
  },
  {
   "cell_type": "code",
   "execution_count": 7,
   "metadata": {},
   "outputs": [],
   "source": [
    "def parse_ann(filename):\n",
    "    \n",
    "    path_ann = \"PGxCorpus/\" + str(filename[0])\n",
    "    my_file_ann = open(path_ann, \"r\")\n",
    "    my_file_bis_ann= my_file_ann.read()\n",
    "    \n",
    "    parsed = my_file_bis_ann.split(\"\\n\")\n",
    "    new_parsed =  []\n",
    "    for i in range(0,len(parsed)):\n",
    "        if len(parsed[i]) != 0 :\n",
    "            if parsed[i][0] == 'T' and \";\" not in parsed[i]:\n",
    "                new_parsed.append(parsed[i])\n",
    "    newer_parsed= []\n",
    "    for j in range(0,len(new_parsed)): \n",
    "        chaine1 = new_parsed[j].split('\\t')\n",
    "        del chaine1[0]\n",
    "        newer_parsed = newer_parsed + chaine1\n",
    "        \n",
    "    for k in range(0, len(newer_parsed), 2):\n",
    "        chaine2 = newer_parsed[k].split(\" \")\n",
    "        newer_parsed[k] =  chaine2[0]\n",
    "     \n",
    "    return newer_parsed"
   ]
  },
  {
   "cell_type": "code",
   "execution_count": 8,
   "metadata": {},
   "outputs": [
    {
     "data": {
      "text/plain": [
       "['Chemical',\n",
       " 'amphetamine ',\n",
       " 'Phenotype',\n",
       " 'RGS2 expression ',\n",
       " 'Gene_or_protein',\n",
       " 'RGS2 ',\n",
       " 'Chemical',\n",
       " 'amphetamine ',\n",
       " 'Pharmacodynamic_phenotype',\n",
       " 'effects of repeated amphetamine']"
      ]
     },
     "execution_count": 8,
     "metadata": {},
     "output_type": "execute_result"
    }
   ],
   "source": [
    "file_ann = parse_ann(all_files[4]) # make sure that the index corresponds to a txt file\n",
    "file_ann"
   ]
  },
  {
   "cell_type": "markdown",
   "metadata": {},
   "source": [
    "We remove if there are several occurences of the same:"
   ]
  },
  {
   "cell_type": "code",
   "execution_count": 9,
   "metadata": {},
   "outputs": [],
   "source": [
    "def rmv_occ(file_ann):\n",
    "    final_ann=[]\n",
    "    for l in range(1,len(file_ann),2):\n",
    "        if \" \" in file_ann[l]:\n",
    "            boolean=False\n",
    "            for m in range(1,len(file_ann),2):\n",
    "                if file_ann[m] in file_ann[l] and m!=l:\n",
    "                    boolean=True\n",
    "            if boolean==False:\n",
    "                final_ann.append(file_ann[l].strip())\n",
    "                final_ann.append(file_ann[l-1].strip())\n",
    "        else:\n",
    "            final_ann.append(file_ann[l].strip())\n",
    "            final_ann.append(file_ann[l-1].strip())\n",
    "    return final_ann"
   ]
  },
  {
   "cell_type": "code",
   "execution_count": 10,
   "metadata": {},
   "outputs": [
    {
     "data": {
      "text/plain": [
       "['RGS2',\n",
       " 'Gene_or_protein',\n",
       " 'effects of repeated amphetamine',\n",
       " 'Pharmacodynamic_phenotype']"
      ]
     },
     "execution_count": 10,
     "metadata": {},
     "output_type": "execute_result"
    }
   ],
   "source": [
    "final_ann = rmv_occ(file_ann)\n",
    "final_ann"
   ]
  },
  {
   "cell_type": "code",
   "execution_count": 17,
   "metadata": {},
   "outputs": [],
   "source": [
    "def create_file(file, final_ann, phrase):\n",
    "    n=0\n",
    "    while n<len(phrase):\n",
    "        o=0\n",
    "        boolean1=True\n",
    "        while o<len(final_ann) and boolean1:\n",
    "            if \" \" in final_ann[o]:\n",
    "                x=final_ann[o].split(\" \")\n",
    "                boolean2=True\n",
    "                q=0\n",
    "                while boolean2 and q<len(x):\n",
    "                    \n",
    "                    if x[q]==phrase[n+q]:\n",
    "                        q+=1\n",
    "                    else:\n",
    "                        boolean2=False\n",
    "                if boolean2:\n",
    "                    file.write(phrase[n]+\" B-\"+final_ann[o+1]+\"\\n\")\n",
    "                    for z in range(1,len(x)):\n",
    "                        file.write(phrase[n+z]+\" I-\"+final_ann[o+1]+\"\\n\")\n",
    "                    n=n+z\n",
    "                    boolean1=False\n",
    "            else:\n",
    "                if phrase[n]==final_ann[o]:\n",
    "                    file.write(phrase[n]+\" B-\"+final_ann[o+1]+\"\\n\")\n",
    "                    boolean1=False\n",
    "            o=o+2            \n",
    "        if boolean1:\n",
    "            file.write(phrase[n]+\" O \\n\")\n",
    "        n+=1\n",
    "    file.write(\"\\n\")"
   ]
  },
  {
   "cell_type": "code",
   "execution_count": null,
   "metadata": {},
   "outputs": [],
   "source": []
  },
  {
   "cell_type": "code",
   "execution_count": 20,
   "metadata": {},
   "outputs": [
    {
     "ename": "AttributeError",
     "evalue": "'list' object has no attribute 'write'",
     "output_type": "error",
     "traceback": [
      "\u001b[0;31m---------------------------------------------------------------------------\u001b[0m",
      "\u001b[0;31mAttributeError\u001b[0m                            Traceback (most recent call last)",
      "\u001b[0;32m<ipython-input-20-4b0fd1431fc3>\u001b[0m in \u001b[0;36m<module>\u001b[0;34m\u001b[0m\n\u001b[0;32m----> 1\u001b[0;31m \u001b[0mcreate_file\u001b[0m\u001b[0;34m(\u001b[0m\u001b[0mall_files\u001b[0m\u001b[0;34m,\u001b[0m \u001b[0mfinal_ann\u001b[0m\u001b[0;34m,\u001b[0m \u001b[0mphrase\u001b[0m\u001b[0;34m)\u001b[0m\u001b[0;34m\u001b[0m\u001b[0;34m\u001b[0m\u001b[0m\n\u001b[0m",
      "\u001b[0;32m<ipython-input-17-228558f45c75>\u001b[0m in \u001b[0;36mcreate_file\u001b[0;34m(file, final_ann, phrase)\u001b[0m\n\u001b[1;32m     27\u001b[0m             \u001b[0mo\u001b[0m\u001b[0;34m=\u001b[0m\u001b[0mo\u001b[0m\u001b[0;34m+\u001b[0m\u001b[0;36m2\u001b[0m\u001b[0;34m\u001b[0m\u001b[0;34m\u001b[0m\u001b[0m\n\u001b[1;32m     28\u001b[0m         \u001b[0;32mif\u001b[0m \u001b[0mboolean1\u001b[0m\u001b[0;34m:\u001b[0m\u001b[0;34m\u001b[0m\u001b[0;34m\u001b[0m\u001b[0m\n\u001b[0;32m---> 29\u001b[0;31m             \u001b[0mfile\u001b[0m\u001b[0;34m.\u001b[0m\u001b[0mwrite\u001b[0m\u001b[0;34m(\u001b[0m\u001b[0mphrase\u001b[0m\u001b[0;34m[\u001b[0m\u001b[0mn\u001b[0m\u001b[0;34m]\u001b[0m\u001b[0;34m+\u001b[0m\u001b[0;34m\" O \\n\"\u001b[0m\u001b[0;34m)\u001b[0m\u001b[0;34m\u001b[0m\u001b[0;34m\u001b[0m\u001b[0m\n\u001b[0m\u001b[1;32m     30\u001b[0m         \u001b[0mn\u001b[0m\u001b[0;34m+=\u001b[0m\u001b[0;36m1\u001b[0m\u001b[0;34m\u001b[0m\u001b[0;34m\u001b[0m\u001b[0m\n\u001b[1;32m     31\u001b[0m     \u001b[0mfile\u001b[0m\u001b[0;34m.\u001b[0m\u001b[0mwrite\u001b[0m\u001b[0;34m(\u001b[0m\u001b[0;34m\"\\n\"\u001b[0m\u001b[0;34m)\u001b[0m\u001b[0;34m\u001b[0m\u001b[0;34m\u001b[0m\u001b[0m\n",
      "\u001b[0;31mAttributeError\u001b[0m: 'list' object has no attribute 'write'"
     ]
    }
   ],
   "source": [
    "create_file(all_files, final_ann, phrase)"
   ]
  },
  {
   "cell_type": "code",
   "execution_count": 21,
   "metadata": {},
   "outputs": [],
   "source": [
    "def transf_total(tab_files):\n",
    "    n =  len(tab_files)\n",
    "    file = open(\"data_iob.tsv\",\"w\")\n",
    "    file.write(\"-DOCSTART- O \\n\\n\")\n",
    "    \n",
    "    for s in range(0,n-1,2) :\n",
    "        phrase = parse_txt(all_files[s+1])\n",
    "        file_ann = parse_ann(all_files[s])\n",
    "        final_ann = rmv_occ(file_ann)\n",
    "        create_file(file,final_ann,phrase)\n",
    "\n",
    "    file.close()"
   ]
  },
  {
   "cell_type": "code",
   "execution_count": 22,
   "metadata": {},
   "outputs": [],
   "source": [
    "transf_total(all_files)"
   ]
  },
  {
   "cell_type": "markdown",
   "metadata": {},
   "source": [
    "---\n",
    "Back to [top](#top)."
   ]
  }
 ],
 "metadata": {
  "kernelspec": {
   "display_name": "Python 3",
   "language": "python",
   "name": "python3"
  },
  "language_info": {
   "codemirror_mode": {
    "name": "ipython",
    "version": 3
   },
   "file_extension": ".py",
   "mimetype": "text/x-python",
   "name": "python",
   "nbconvert_exporter": "python",
   "pygments_lexer": "ipython3",
   "version": "3.7.3"
  }
 },
 "nbformat": 4,
 "nbformat_minor": 2
}
